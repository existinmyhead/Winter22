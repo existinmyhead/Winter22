{
  "nbformat": 4,
  "nbformat_minor": 0,
  "metadata": {
    "colab": {
      "name": "Assignment 2.ipynb",
      "provenance": [],
      "collapsed_sections": [],
      "include_colab_link": true
    },
    "kernelspec": {
      "name": "python3",
      "display_name": "Python 3"
    },
    "language_info": {
      "name": "python"
    }
  },
  "cells": [
    {
      "cell_type": "markdown",
      "metadata": {
        "id": "view-in-github",
        "colab_type": "text"
      },
      "source": [
        "<a href=\"https://colab.research.google.com/github/existinmyhead/Winter22/blob/main/CIS3200/Project2/Assignment_2.ipynb\" target=\"_parent\"><img src=\"https://colab.research.google.com/assets/colab-badge.svg\" alt=\"Open In Colab\"/></a>"
      ]
    },
    {
      "cell_type": "code",
      "source": [
        "!pip install -q pyspark\n",
        "\n",
        "!wget -q 'https://drive.google.com/uc?export=download&id=1wAdLRbT_YgWJ1XRl39JM-lKwJpewdwyM' -O 'Sample.txt'"
      ],
      "metadata": {
        "id": "d_ip7rdAZVd6",
        "colab": {
          "base_uri": "https://localhost:8080/"
        },
        "outputId": "23ba22a3-df34-412b-d62e-80bbd8e948ab"
      },
      "execution_count": null,
      "outputs": [
        {
          "output_type": "stream",
          "name": "stdout",
          "text": [
            "\u001b[K     |████████████████████████████████| 281.4 MB 35 kB/s \n",
            "\u001b[K     |████████████████████████████████| 198 kB 53.6 MB/s \n",
            "\u001b[?25h  Building wheel for pyspark (setup.py) ... \u001b[?25l\u001b[?25hdone\n"
          ]
        }
      ]
    },
    {
      "cell_type": "code",
      "source": [
        "from pyspark import SparkContext, SparkConf\n",
        "from pyspark.sql import SparkSession\n",
        "\n",
        "conf = SparkConf().setAppName('SparkWordCount')\n",
        "sc = SparkContext.getOrCreate(conf = conf)\n",
        "\n",
        "sqlContext = SparkSession.builder\\\n",
        "        .master(\"local\")\\\n",
        "        .appName(\"Colab\")\\\n",
        "        .config('spark.ui.port', '4050')\\\n",
        "        .getOrCreate()"
      ],
      "metadata": {
        "id": "-R0dFAWUK5i_"
      },
      "execution_count": null,
      "outputs": []
    },
    {
      "cell_type": "code",
      "source": [
        "input_file = sc.textFile('Sample.txt')\n",
        "\n",
        "input_file.collect()[:10]"
      ],
      "metadata": {
        "id": "J3mVj2RRmPI9",
        "colab": {
          "base_uri": "https://localhost:8080/"
        },
        "outputId": "0957a8e6-5ef0-44dc-ac6d-98a3ea340a5d"
      },
      "execution_count": null,
      "outputs": [
        {
          "output_type": "execute_result",
          "data": {
            "text/plain": [
              "['The Project Gutenberg EBook of The Complete Works of William Shakespeare, by',\n",
              " 'William Shakespeare',\n",
              " '',\n",
              " 'This eBook is for the use of anyone anywhere at no cost and with',\n",
              " 'almost no restrictions whatsoever.  You may copy it, give it away or',\n",
              " 're-use it under the terms of the Project Gutenberg License included',\n",
              " 'with this eBook or online at www.gutenberg.org',\n",
              " '',\n",
              " '** This is a COPYRIGHTED Project Gutenberg eBook, Details Below **',\n",
              " '**     Please follow the copyright guidelines in this file.     **']"
            ]
          },
          "metadata": {},
          "execution_count": 4
        }
      ]
    },
    {
      "cell_type": "code",
      "source": [
        "# import re\n",
        "# flatMapVar = input_file.flatMap(lambda line: re.split(r\"[ .\\*\\,\\'\\?\\;\\!\\$\\&\\:]+\", line))\n",
        "\n",
        "# flatMapVar.collect()[:10]\n",
        "\n",
        "import re\n",
        "def countFivewords(ls, n = 5):\n",
        "  lines = re.split(r\"[ ,\\.\\*)\\(\\)\\<\\>\\#\\:\\-\\!\\[\\]]+\", ls)\n",
        "  holder = zip(*[lines[i:] for i in range(n)])\n",
        "  return [\" \".join(h) for h in holder]\n",
        "\n",
        "flatMapVar = input_file.flatMap(lambda lines: countFivewords(lines)).map(lambda lines: (lines, 1)) \n",
        "                #  .reduceByKey(lambda a, b: a + b)\n",
        "\n",
        "flatMapVar.collect()[:20]"
      ],
      "metadata": {
        "id": "8R9oJvnKlUot",
        "colab": {
          "base_uri": "https://localhost:8080/"
        },
        "outputId": "2c744ac8-ca0d-4590-b2e5-8b52df5f117f"
      },
      "execution_count": null,
      "outputs": [
        {
          "output_type": "execute_result",
          "data": {
            "text/plain": [
              "[('The Project Gutenberg EBook of', 1),\n",
              " ('Project Gutenberg EBook of The', 1),\n",
              " ('Gutenberg EBook of The Complete', 1),\n",
              " ('EBook of The Complete Works', 1),\n",
              " ('of The Complete Works of', 1),\n",
              " ('The Complete Works of William', 1),\n",
              " ('Complete Works of William Shakespeare', 1),\n",
              " ('Works of William Shakespeare by', 1),\n",
              " ('This eBook is for the', 1),\n",
              " ('eBook is for the use', 1),\n",
              " ('is for the use of', 1),\n",
              " ('for the use of anyone', 1),\n",
              " ('the use of anyone anywhere', 1),\n",
              " ('use of anyone anywhere at', 1),\n",
              " ('of anyone anywhere at no', 1),\n",
              " ('anyone anywhere at no cost', 1),\n",
              " ('anywhere at no cost and', 1),\n",
              " ('at no cost and with', 1),\n",
              " ('almost no restrictions whatsoever You', 1),\n",
              " ('no restrictions whatsoever You may', 1)]"
            ]
          },
          "metadata": {},
          "execution_count": 5
        }
      ]
    },
    {
      "cell_type": "code",
      "source": [
        "# keyPairs = flatMapVar.map(lambda word: (word, 1))\n",
        "\n",
        "# keyPairs.collect()[:10]"
      ],
      "metadata": {
        "id": "luGpTTrBlfmh"
      },
      "execution_count": null,
      "outputs": []
    },
    {
      "cell_type": "code",
      "source": [
        "countKeys = flatMapVar.reduceByKey(lambda a, b: a + b)\n",
        "\n",
        "countKeys.collect()[:20]"
      ],
      "metadata": {
        "id": "tLlutQZOlf1A",
        "colab": {
          "base_uri": "https://localhost:8080/"
        },
        "outputId": "f55fc77f-1337-4daa-bd47-b5b52ec3fad5"
      },
      "execution_count": null,
      "outputs": [
        {
          "output_type": "execute_result",
          "data": {
            "text/plain": [
              "[('The Project Gutenberg EBook of', 1),\n",
              " ('EBook of The Complete Works', 2),\n",
              " ('Complete Works of William Shakespeare', 3),\n",
              " ('This eBook is for the', 2),\n",
              " ('eBook is for the use', 2),\n",
              " ('for the use of anyone', 2),\n",
              " ('use of anyone anywhere at', 2),\n",
              " ('of anyone anywhere at no', 2),\n",
              " ('anywhere at no cost and', 2),\n",
              " ('at no cost and with', 2),\n",
              " ('restrictions whatsoever You may copy', 2),\n",
              " ('whatsoever You may copy it', 2),\n",
              " ('copy it give it away', 2),\n",
              " ('re use it under the', 2),\n",
              " ('use it under the terms', 2),\n",
              " ('under the terms of the', 2),\n",
              " ('the terms of the Project', 2),\n",
              " ('of the Project Gutenberg License', 2),\n",
              " ('or online at www gutenberg', 2),\n",
              " ('online at www gutenberg org', 2)]"
            ]
          },
          "metadata": {},
          "execution_count": 6
        }
      ]
    },
    {
      "cell_type": "code",
      "source": [
        "countsDF = sqlContext.createDataFrame(countKeys) \\\n",
        "            .withColumnRenamed('_1','Word').withColumnRenamed('_2','Count')\n",
        "\n",
        "countsDF.toPandas().to_csv('counts.csv', index=False)\n",
        "\n",
        "countsDF.show()"
      ],
      "metadata": {
        "id": "nWyajGXGlf6G",
        "colab": {
          "base_uri": "https://localhost:8080/"
        },
        "outputId": "e538d5a8-2329-42b3-c8af-0ceecad8c5df"
      },
      "execution_count": null,
      "outputs": [
        {
          "output_type": "stream",
          "name": "stdout",
          "text": [
            "+--------------------+-----+\n",
            "|                Word|Count|\n",
            "+--------------------+-----+\n",
            "|The Project Guten...|    1|\n",
            "|EBook of The Comp...|    2|\n",
            "|Complete Works of...|    3|\n",
            "|This eBook is for...|    2|\n",
            "|eBook is for the use|    2|\n",
            "|for the use of an...|    2|\n",
            "|use of anyone any...|    2|\n",
            "|of anyone anywher...|    2|\n",
            "|anywhere at no co...|    2|\n",
            "| at no cost and with|    2|\n",
            "|restrictions what...|    2|\n",
            "|whatsoever You ma...|    2|\n",
            "|copy it give it away|    2|\n",
            "| re use it under the|    2|\n",
            "|use it under the ...|    2|\n",
            "|under the terms o...|    2|\n",
            "|the terms of the ...|    2|\n",
            "|of the Project Gu...|    2|\n",
            "|or online at www ...|    2|\n",
            "|online at www gut...|    2|\n",
            "+--------------------+-----+\n",
            "only showing top 20 rows\n",
            "\n"
          ]
        }
      ]
    },
    {
      "cell_type": "markdown",
      "source": [
        "Here's all the above steps merged into one block of code:"
      ],
      "metadata": {
        "id": "_BQCBqd8l0eW"
      }
    },
    {
      "cell_type": "code",
      "source": [
        "input_file = sc.textFile('Sample.txt')\n",
        "\n",
        "import re\n",
        "def countFivewords(ls, n = 5):\n",
        "  lines = re.split(r\"[ ,\\.\\*)\\(\\)\\<\\>\\#\\:\\-\\!\\[\\]]+\", ls)\n",
        "  holder = zip(*[lines[i:] for i in range(n)])\n",
        "  return [\" \".join(h) for h in holder]\n",
        "\n",
        "flatMapVar = input_file.flatMap(lambda lines: countFivewords(lines)).map(lambda lines: (lines, 1)) \n",
        "\n",
        "countKeys = flatMapVar.reduceByKey(lambda a, b: a + b)\n",
        "\n",
        "countsDF = sqlContext.createDataFrame(countKeys) \\\n",
        "            .withColumnRenamed('_1','Word').withColumnRenamed('_2','Count')\n",
        "\n",
        "countsDF.toPandas().to_csv('counts.csv', index=False)\n",
        "\n",
        "# input_file = sc.textFile('Sample.txt')\n",
        "\n",
        "# counts = input_file.flatMap(lambda line: line.split()).map(lambda word: (word, 1)) \\\n",
        "#                  .reduceByKey(lambda a, b: a + b)\n",
        "\n",
        "\n",
        "# countsDF = sqlContext.createDataFrame(counts) \\\n",
        "#             .withColumnRenamed('_1','Word').withColumnRenamed('_2','Count')\n",
        "\n",
        "# countsDF.toPandas().to_csv('counts.csv', index=False)\n",
        "\n",
        "# countsDF.show()"
      ],
      "metadata": {
        "id": "sHAm978QLC0k",
        "colab": {
          "base_uri": "https://localhost:8080/",
          "height": 240
        },
        "outputId": "5ab200ce-6894-4e7f-e6cf-8c633adff241"
      },
      "execution_count": null,
      "outputs": [
        {
          "output_type": "error",
          "ename": "NameError",
          "evalue": "ignored",
          "traceback": [
            "\u001b[0;31m---------------------------------------------------------------------------\u001b[0m",
            "\u001b[0;31mNameError\u001b[0m                                 Traceback (most recent call last)",
            "\u001b[0;32m<ipython-input-1-a0577ac2036e>\u001b[0m in \u001b[0;36m<module>\u001b[0;34m()\u001b[0m\n\u001b[0;32m----> 1\u001b[0;31m \u001b[0minput_file\u001b[0m \u001b[0;34m=\u001b[0m \u001b[0msc\u001b[0m\u001b[0;34m.\u001b[0m\u001b[0mtextFile\u001b[0m\u001b[0;34m(\u001b[0m\u001b[0;34m'Sample.txt'\u001b[0m\u001b[0;34m)\u001b[0m\u001b[0;34m\u001b[0m\u001b[0;34m\u001b[0m\u001b[0m\n\u001b[0m\u001b[1;32m      2\u001b[0m \u001b[0;34m\u001b[0m\u001b[0m\n\u001b[1;32m      3\u001b[0m \u001b[0;32mimport\u001b[0m \u001b[0mre\u001b[0m\u001b[0;34m\u001b[0m\u001b[0;34m\u001b[0m\u001b[0m\n\u001b[1;32m      4\u001b[0m \u001b[0;32mdef\u001b[0m \u001b[0mcountFivewords\u001b[0m\u001b[0;34m(\u001b[0m\u001b[0mls\u001b[0m\u001b[0;34m,\u001b[0m \u001b[0mn\u001b[0m \u001b[0;34m=\u001b[0m \u001b[0;36m5\u001b[0m\u001b[0;34m)\u001b[0m\u001b[0;34m:\u001b[0m\u001b[0;34m\u001b[0m\u001b[0;34m\u001b[0m\u001b[0m\n\u001b[1;32m      5\u001b[0m   \u001b[0mlines\u001b[0m \u001b[0;34m=\u001b[0m \u001b[0mre\u001b[0m\u001b[0;34m.\u001b[0m\u001b[0msplit\u001b[0m\u001b[0;34m(\u001b[0m\u001b[0;34mr\"[ ,\\.\\*)\\(\\)\\<\\>\\#\\:\\-\\!\\[\\]]+\"\u001b[0m\u001b[0;34m,\u001b[0m \u001b[0mls\u001b[0m\u001b[0;34m)\u001b[0m\u001b[0;34m\u001b[0m\u001b[0;34m\u001b[0m\u001b[0m\n",
            "\u001b[0;31mNameError\u001b[0m: name 'sc' is not defined"
          ]
        }
      ]
    },
    {
      "cell_type": "code",
      "source": [
        ""
      ],
      "metadata": {
        "id": "N-OjhscBrlYY"
      },
      "execution_count": null,
      "outputs": []
    }
  ]
}