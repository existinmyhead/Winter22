{
  "nbformat": 4,
  "nbformat_minor": 0,
  "metadata": {
    "colab": {
      "name": "Assignment 3.ipynb",
      "provenance": [],
      "collapsed_sections": [],
      "include_colab_link": true
    },
    "kernelspec": {
      "name": "python3",
      "display_name": "Python 3"
    },
    "language_info": {
      "name": "python"
    }
  },
  "cells": [
    {
      "cell_type": "markdown",
      "metadata": {
        "id": "view-in-github",
        "colab_type": "text"
      },
      "source": [
        "<a href=\"https://colab.research.google.com/github/existinmyhead/Winter22/blob/main/CIS3200/Project3/Assignment_3.ipynb\" target=\"_parent\"><img src=\"https://colab.research.google.com/assets/colab-badge.svg\" alt=\"Open In Colab\"/></a>"
      ]
    },
    {
      "cell_type": "code",
      "source": [
        "!pip install -q pyspark\n",
        "\n",
        "!wget -q 'https://drive.google.com/uc?export=download&id=1wAdLRbT_YgWJ1XRl39JM-lKwJpewdwyM' -O 'Sample.txt'"
      ],
      "metadata": {
        "id": "d_ip7rdAZVd6"
      },
      "execution_count": null,
      "outputs": []
    },
    {
      "cell_type": "code",
      "source": [
        "from pyspark import SparkContext, SparkConf\n",
        "from pyspark.sql import SparkSession\n",
        "\n",
        "conf = SparkConf().setAppName('SparkWordCount')\n",
        "sc = SparkContext.getOrCreate(conf = conf)\n",
        "\n",
        "sqlContext = SparkSession.builder\\\n",
        "        .master(\"local\")\\\n",
        "        .appName(\"Colab\")\\\n",
        "        .config('spark.ui.port', '4050')\\\n",
        "        .getOrCreate()"
      ],
      "metadata": {
        "id": "-R0dFAWUK5i_"
      },
      "execution_count": null,
      "outputs": []
    },
    {
      "cell_type": "code",
      "source": [
        "input_file = sc.textFile('Sample.txt')\n",
        "\n",
        "input_file.collect()[:10]"
      ],
      "metadata": {
        "id": "J3mVj2RRmPI9",
        "colab": {
          "base_uri": "https://localhost:8080/"
        },
        "outputId": "d13d9801-2ae9-4888-f4f8-248cfa219368"
      },
      "execution_count": null,
      "outputs": [
        {
          "output_type": "execute_result",
          "data": {
            "text/plain": [
              "['The Project Gutenberg EBook of The Complete Works of William Shakespeare, by',\n",
              " 'William Shakespeare',\n",
              " '',\n",
              " 'This eBook is for the use of anyone anywhere at no cost and with',\n",
              " 'almost no restrictions whatsoever.  You may copy it, give it away or',\n",
              " 're-use it under the terms of the Project Gutenberg License included',\n",
              " 'with this eBook or online at www.gutenberg.org',\n",
              " '',\n",
              " '** This is a COPYRIGHTED Project Gutenberg eBook, Details Below **',\n",
              " '**     Please follow the copyright guidelines in this file.     **']"
            ]
          },
          "metadata": {},
          "execution_count": 75
        }
      ]
    },
    {
      "cell_type": "code",
      "source": [
        "# Split lines by word and remove all characters and empty spaces from text so only letters remain\n",
        "\n",
        "import re\n",
        "flatMapVar = input_file.flatMap(lambda line: re.split(r\"[ \\!\\\"\\#\\$\\%\\&\\'\\(\\)\\*\\+\\,\\-\\.\\/\\:\\;\\<\\=\\>\\?\\@\\[\\]\\\\\\^\\_\\`\\{\\}\\|\\~]+\", line)).filter(lambda line: len(line) > 0)\n",
        "\n",
        "flatMapVar.collect()[:20]"
      ],
      "metadata": {
        "colab": {
          "base_uri": "https://localhost:8080/"
        },
        "id": "mM6PVyyTfZiH",
        "outputId": "a0218138-4e16-4f97-83f0-a6a66c055129"
      },
      "execution_count": null,
      "outputs": [
        {
          "output_type": "execute_result",
          "data": {
            "text/plain": [
              "['The',\n",
              " 'Project',\n",
              " 'Gutenberg',\n",
              " 'EBook',\n",
              " 'of',\n",
              " 'The',\n",
              " 'Complete',\n",
              " 'Works',\n",
              " 'of',\n",
              " 'William',\n",
              " 'Shakespeare',\n",
              " 'by',\n",
              " 'William',\n",
              " 'Shakespeare',\n",
              " 'This',\n",
              " 'eBook',\n",
              " 'is',\n",
              " 'for',\n",
              " 'the',\n",
              " 'use']"
            ]
          },
          "metadata": {},
          "execution_count": 76
        }
      ]
    },
    {
      "cell_type": "code",
      "source": [
        "# Truncate each word to only the first letter, convert case to lowercase, and map\n",
        "\n",
        "keyPairs = flatMapVar.map(lambda line: (line[:1].lower(), 1))\n",
        "\n",
        "keyPairs.collect()[:30]"
      ],
      "metadata": {
        "colab": {
          "base_uri": "https://localhost:8080/"
        },
        "id": "OzQ85QITKsQf",
        "outputId": "14de8fa8-9ff2-45e9-cbfe-81d41a0a31c7"
      },
      "execution_count": null,
      "outputs": [
        {
          "output_type": "execute_result",
          "data": {
            "text/plain": [
              "[('t', 1),\n",
              " ('p', 1),\n",
              " ('g', 1),\n",
              " ('e', 1),\n",
              " ('o', 1),\n",
              " ('t', 1),\n",
              " ('c', 1),\n",
              " ('w', 1),\n",
              " ('o', 1),\n",
              " ('w', 1),\n",
              " ('s', 1),\n",
              " ('b', 1),\n",
              " ('w', 1),\n",
              " ('s', 1),\n",
              " ('t', 1),\n",
              " ('e', 1),\n",
              " ('i', 1),\n",
              " ('f', 1),\n",
              " ('t', 1),\n",
              " ('u', 1),\n",
              " ('o', 1),\n",
              " ('a', 1),\n",
              " ('a', 1),\n",
              " ('a', 1),\n",
              " ('n', 1),\n",
              " ('c', 1),\n",
              " ('a', 1),\n",
              " ('w', 1),\n",
              " ('a', 1),\n",
              " ('n', 1)]"
            ]
          },
          "metadata": {},
          "execution_count": 77
        }
      ]
    },
    {
      "cell_type": "code",
      "source": [
        "# Reduce and filter the remaining numbers out\n",
        "\n",
        "countKeys = keyPairs.reduceByKey(lambda a, b: a + b).filter(lambda key: ord(key[0]) in range(97, 123))\n",
        "\n",
        "countKeys.collect()[:30]"
      ],
      "metadata": {
        "id": "tLlutQZOlf1A",
        "colab": {
          "base_uri": "https://localhost:8080/"
        },
        "outputId": "f363aff2-82ee-415f-d59e-a72a33eeb0b7"
      },
      "execution_count": null,
      "outputs": [
        {
          "output_type": "execute_result",
          "data": {
            "text/plain": [
              "[('p', 28059),\n",
              " ('g', 21167),\n",
              " ('c', 34983),\n",
              " ('s', 75226),\n",
              " ('b', 46001),\n",
              " ('i', 62420),\n",
              " ('r', 15234),\n",
              " ('y', 25926),\n",
              " ('l', 32389),\n",
              " ('d', 39173),\n",
              " ('j', 3372),\n",
              " ('h', 61029),\n",
              " ('t', 127781),\n",
              " ('e', 20409),\n",
              " ('o', 43712),\n",
              " ('w', 60097),\n",
              " ('f', 37186),\n",
              " ('u', 9230),\n",
              " ('a', 86000),\n",
              " ('n', 27313),\n",
              " ('m', 56252),\n",
              " ('v', 5802),\n",
              " ('k', 9535),\n",
              " ('q', 2388),\n",
              " ('z', 79),\n",
              " ('x', 14)]"
            ]
          },
          "metadata": {},
          "execution_count": 78
        }
      ]
    },
    {
      "cell_type": "code",
      "source": [
        "countsDF = sqlContext.createDataFrame(countKeys) \\\n",
        "            .withColumnRenamed('_1','Word').withColumnRenamed('_2','Count')\n",
        "\n",
        "countsDF.toPandas().to_csv('counts.csv', index=False)\n",
        "\n",
        "countsDF.show()"
      ],
      "metadata": {
        "id": "nWyajGXGlf6G",
        "colab": {
          "base_uri": "https://localhost:8080/"
        },
        "outputId": "1b5ea4dd-292d-40ec-9003-c02d97be0bdb"
      },
      "execution_count": null,
      "outputs": [
        {
          "output_type": "stream",
          "name": "stdout",
          "text": [
            "+----+------+\n",
            "|Word| Count|\n",
            "+----+------+\n",
            "|   p| 28059|\n",
            "|   g| 21167|\n",
            "|   c| 34983|\n",
            "|   s| 75226|\n",
            "|   b| 46001|\n",
            "|   i| 62420|\n",
            "|   r| 15234|\n",
            "|   y| 25926|\n",
            "|   l| 32389|\n",
            "|   d| 39173|\n",
            "|   j|  3372|\n",
            "|   h| 61029|\n",
            "|   t|127781|\n",
            "|   e| 20409|\n",
            "|   o| 43712|\n",
            "|   w| 60097|\n",
            "|   f| 37186|\n",
            "|   u|  9230|\n",
            "|   a| 86000|\n",
            "|   n| 27313|\n",
            "+----+------+\n",
            "only showing top 20 rows\n",
            "\n"
          ]
        }
      ]
    },
    {
      "cell_type": "markdown",
      "source": [
        "Here's all the above steps merged into one block of code:"
      ],
      "metadata": {
        "id": "_BQCBqd8l0eW"
      }
    },
    {
      "cell_type": "code",
      "source": [
        "input_file = sc.textFile('Sample.txt')\n",
        "\n",
        "\n",
        "# Split lines by word and remove all characters and empty spaces from text so only letters remain\n",
        "import re\n",
        "flatMapVar = input_file.flatMap(lambda line: re.split(r\"[ \\!\\\"\\#\\$\\%\\&\\'\\(\\)\\*\\+\\,\\-\\.\\/\\:\\;\\<\\=\\>\\?\\@\\[\\]\\\\\\^\\_\\`\\{\\}\\|\\~]+\", line)).filter(lambda line: len(line) > 0)\n",
        "\n",
        "\n",
        "# Truncate each word to only the first letter, convert case to lowercase, and map\n",
        "keyPairs = flatMapVar.map(lambda line: (line[:1].lower(), 1))\n",
        "\n",
        "\n",
        "# Reduce and filter the remaining numbers out\n",
        "countKeys = keyPairs.reduceByKey(lambda a, b: a + b).filter(lambda key: ord(key[0]) in range(97, 123))\n",
        "\n",
        "\n",
        "# Create dataframe and export csv\n",
        "countsDF = sqlContext.createDataFrame(countKeys) \\\n",
        "            .withColumnRenamed('_1','Word').withColumnRenamed('_2','Count')\n",
        "\n",
        "countsDF.toPandas().to_csv('counts.csv', index=False)\n",
        "\n",
        "countsDF.show()"
      ],
      "metadata": {
        "id": "sHAm978QLC0k",
        "colab": {
          "base_uri": "https://localhost:8080/"
        },
        "outputId": "1e5b79b1-dd8c-4ee8-eeb7-1abe34479160"
      },
      "execution_count": null,
      "outputs": [
        {
          "output_type": "stream",
          "name": "stdout",
          "text": [
            "+----+------+\n",
            "|Word| Count|\n",
            "+----+------+\n",
            "|   p| 28059|\n",
            "|   g| 21167|\n",
            "|   c| 34983|\n",
            "|   s| 75226|\n",
            "|   b| 46001|\n",
            "|   i| 62420|\n",
            "|   r| 15234|\n",
            "|   y| 25926|\n",
            "|   l| 32389|\n",
            "|   d| 39173|\n",
            "|   j|  3372|\n",
            "|   h| 61029|\n",
            "|   t|127781|\n",
            "|   e| 20409|\n",
            "|   o| 43712|\n",
            "|   w| 60097|\n",
            "|   f| 37186|\n",
            "|   u|  9230|\n",
            "|   a| 86000|\n",
            "|   n| 27313|\n",
            "+----+------+\n",
            "only showing top 20 rows\n",
            "\n"
          ]
        }
      ]
    }
  ]
}