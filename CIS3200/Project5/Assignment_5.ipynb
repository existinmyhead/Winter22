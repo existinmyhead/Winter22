{
  "nbformat": 4,
  "nbformat_minor": 0,
  "metadata": {
    "colab": {
      "name": "Assignment 5.ipynb",
      "provenance": [],
      "collapsed_sections": [],
      "include_colab_link": true
    },
    "kernelspec": {
      "name": "python3",
      "display_name": "Python 3"
    },
    "language_info": {
      "name": "python"
    }
  },
  "cells": [
    {
      "cell_type": "markdown",
      "metadata": {
        "id": "view-in-github",
        "colab_type": "text"
      },
      "source": [
        "<a href=\"https://colab.research.google.com/github/existinmyhead/Winter22/blob/main/CIS3200/Project5/Assignment_5.ipynb\" target=\"_parent\"><img src=\"https://colab.research.google.com/assets/colab-badge.svg\" alt=\"Open In Colab\"/></a>"
      ]
    },
    {
      "cell_type": "code",
      "source": [
        "!pip install -q pyspark\n",
        "\n",
        "!wget -q 'https://drive.google.com/uc?export=download&id=1wAdLRbT_YgWJ1XRl39JM-lKwJpewdwyM' -O 'Sample.txt'"
      ],
      "metadata": {
        "id": "d_ip7rdAZVd6",
        "colab": {
          "base_uri": "https://localhost:8080/"
        },
        "outputId": "c0ecf2e4-dfcb-41e1-c9c3-b0744ecbf59b"
      },
      "execution_count": null,
      "outputs": [
        {
          "output_type": "stream",
          "name": "stdout",
          "text": [
            "\u001b[K     |████████████████████████████████| 281.4 MB 35 kB/s \n",
            "\u001b[K     |████████████████████████████████| 198 kB 39.1 MB/s \n",
            "\u001b[?25h  Building wheel for pyspark (setup.py) ... \u001b[?25l\u001b[?25hdone\n"
          ]
        }
      ]
    },
    {
      "cell_type": "code",
      "source": [
        "from pyspark import SparkContext, SparkConf\n",
        "from pyspark.sql import SparkSession\n",
        "\n",
        "conf = SparkConf().setAppName('SparkWordCount')\n",
        "sc = SparkContext.getOrCreate(conf = conf)\n",
        "\n",
        "sqlContext = SparkSession.builder\\\n",
        "        .master(\"local\")\\\n",
        "        .appName(\"Colab\")\\\n",
        "        .config('spark.ui.port', '4050')\\\n",
        "        .getOrCreate()"
      ],
      "metadata": {
        "id": "-R0dFAWUK5i_"
      },
      "execution_count": null,
      "outputs": []
    },
    {
      "cell_type": "code",
      "source": [
        "input_file = sc.textFile('Friends.txt')\n",
        "\n",
        "# input_file.collect()[:10]"
      ],
      "metadata": {
        "id": "J3mVj2RRmPI9"
      },
      "execution_count": null,
      "outputs": []
    },
    {
      "cell_type": "code",
      "source": [
        "# Split lines by whitespace and remove all commas from text\n",
        "\n",
        "import re\n",
        "# flatMapVar = input_file.map(lambda line: re.split(r\"[ ,\\t]+\", line))\n",
        "flatMapVar = input_file.map(lambda line: re.findall(r\"[0-9]+\", line))\n",
        "\n",
        "# flatMapVar.collect()[:10]"
      ],
      "metadata": {
        "id": "8R9oJvnKlUot"
      },
      "execution_count": null,
      "outputs": []
    },
    {
      "cell_type": "code",
      "source": [
        "# Remove users with no friends\n",
        "\n",
        "flatMapFriend = flatMapVar.filter(lambda line: len(line) > 1)\n",
        "\n",
        "# flatMapFriend.collect()[:10]"
      ],
      "metadata": {
        "id": "4a98jKk4PjLh"
      },
      "execution_count": null,
      "outputs": []
    },
    {
      "cell_type": "code",
      "source": [
        "# Expand list into key-value pairs\n",
        "# Creates list of pairs of actual friends\n",
        "\n",
        "def f(x): return x\n",
        "flatMapFriendPair = flatMapFriend.map(lambda line: (line[0], line[1:])).flatMapValues(f).collect()\n",
        "\n",
        "# flatMapFriendPair"
      ],
      "metadata": {
        "id": "dx8mne-NQI-B"
      },
      "execution_count": null,
      "outputs": []
    },
    {
      "cell_type": "code",
      "source": [
        "# Create data dictionary to iterate through for middle friend list\n",
        "\n",
        "dictionary = {}\n",
        "for line in flatMapFriend.collect():\n",
        "  dictionary[line[0]] = line[1:]\n",
        "\n",
        "# dictionary"
      ],
      "metadata": {
        "id": "GWLePL3P5V7Y"
      },
      "execution_count": null,
      "outputs": []
    },
    {
      "cell_type": "code",
      "source": [
        "# Creates list of all pairs with a friend in the middle\n",
        "\n",
        "# USING ACTUAL FRIEND PAIRS LIST\n",
        "\n",
        "# create empty middle friend list\n",
        "# for loop to iterate through actual friend pairs list, line by line\n",
        "# save first element of tuple as base friend\n",
        "# save second element of tuple as user friend\n",
        "  # for loop to iterate through all tuples with first element being user friend\n",
        "  # extract second element of tuple and pair with base friend iff it is not equal to base friend\n",
        "  # add created tuple to middle friends list\n",
        "\n",
        "friendMiddleList = []\n",
        "\n",
        "for pair in flatMapFriendPair:\n",
        "  \n",
        "  baseFriend = pair[0]\n",
        "  userFriend = pair[1]\n",
        "  fFriend = dictionary[userFriend][:]\n",
        "  \n",
        "  fFriend.remove(baseFriend)\n",
        "  mutualFriend = [(baseFriend, recFriend) for recFriend in fFriend]\n",
        "  friendMiddleList.extend(mutualFriend)\n",
        "\n",
        "# flatMapMiddlePair = sc.parallelize(friendMiddleList)\n",
        "# flatMapMiddlePair.collect()[:15]"
      ],
      "metadata": {
        "id": "s7gJYSX5ceKI"
      },
      "execution_count": null,
      "outputs": []
    },
    {
      "cell_type": "code",
      "source": [
        "# Creates list of mutual friend pairs\n",
        "# MIDDLE FRIEND PAIRS LIST - ACTUAL FRIEND PAIRS LIST\n",
        "\n",
        "flatMapMutualPair = sc.parallelize(list(set(friendMiddleList) - set(flatMapFriendPair)))\n",
        "# flatMapMutualPair.collect()[0]"
      ],
      "metadata": {
        "id": "CRaE5Mg36iwZ"
      },
      "execution_count": null,
      "outputs": []
    },
    {
      "cell_type": "code",
      "source": [
        "# To rank mutual pairs by count:\n",
        "# go through each tuple and assign count = 1\n",
        "# reduce and combine the tuples that are repeats so count = sum of those counts\n",
        "# re-order the list based on the counts (higher count = more mutual friends)\n",
        "# limit the new list to 10 recs based on the order from above code\n",
        "\n",
        "flatMapRankedPair = flatMapMutualPair.map(lambda x: (x, 1))\n",
        "countKeys = flatMapRankedPair.reduceByKey(lambda a, b: a + b)\n",
        "flatMapMutualPair = countKeys.sortBy(lambda x: -x[1]).keys().groupByKey().mapValues(list).map(lambda x: (x[0], x[1][:10]))\n"
      ],
      "metadata": {
        "id": "aGTLbpaUv5J7"
      },
      "execution_count": null,
      "outputs": []
    },
    {
      "cell_type": "code",
      "source": [
        "# Add removed users (had no friends, closed circle of friends) back to final list\n",
        "\n",
        "original = flatMapVar.map(lambda line: (line[0], line[1:])).keys()\n",
        "\n",
        "# original.collect()\n",
        "\n",
        "trimmed = flatMapMutualPair.keys()\n",
        "\n",
        "# trimmed.collect()\n",
        "\n",
        "removed = original.subtract(trimmed).map(lambda line: (line, \"\"))\n",
        "\n",
        "# removed.collect()\n",
        "\n",
        "trueMutuals = flatMapMutualPair.union(removed)\n",
        "\n",
        "# trueMutuals.collect()[:15]"
      ],
      "metadata": {
        "id": "Y1AB4gZx7SVr"
      },
      "execution_count": null,
      "outputs": []
    },
    {
      "cell_type": "code",
      "source": [
        "recs = sqlContext.createDataFrame(trueMutuals) \\\n",
        "            .withColumnRenamed('_1','User').withColumnRenamed('_2','Recommendations')\n",
        "\n",
        "recs.toPandas().to_csv('friend_recs.csv', index=False)\n",
        "\n",
        "# recs.show(truncate = False)"
      ],
      "metadata": {
        "id": "nWyajGXGlf6G"
      },
      "execution_count": null,
      "outputs": []
    },
    {
      "cell_type": "markdown",
      "source": [
        "Here's all the above steps merged into one block of code:"
      ],
      "metadata": {
        "id": "_BQCBqd8l0eW"
      }
    },
    {
      "cell_type": "code",
      "source": [
        "# Import input file\n",
        "input_file = sc.textFile('Friends.txt')\n",
        "\n",
        "\n",
        "# Split lines by whitespace and remove all commas from text\n",
        "import re\n",
        "\n",
        "flatMapVar = input_file.map(lambda line: re.findall(r\"[0-9]+\", line))\n",
        "\n",
        "\n",
        "# Remove users with no friends\n",
        "flatMapFriend = flatMapVar.filter(lambda line: len(line) > 1)\n",
        "\n",
        "\n",
        "# Create list of pairs of actual friends\n",
        "def f(x): return x\n",
        "\n",
        "flatMapFriendPair = flatMapFriend.map(lambda line: (line[0], line[1:])).flatMapValues(f).collect()\n",
        "\n",
        "\n",
        "# Create data dictionary to iterate through for middle friend list\n",
        "dictionary = {}\n",
        "\n",
        "for line in flatMapFriend.collect():\n",
        "  dictionary[line[0]] = line[1:]\n",
        "\n",
        "\n",
        "# Create list of all pairs with a friend in the middle\n",
        "friendMiddleList = []\n",
        "\n",
        "for pair in flatMapFriendPair:\n",
        "  \n",
        "  baseFriend = pair[0]\n",
        "  userFriend = pair[1]\n",
        "  fFriend = dictionary[userFriend][:]\n",
        "  \n",
        "  fFriend.remove(baseFriend)\n",
        "  mutualFriend = [(baseFriend, recFriend) for recFriend in fFriend]\n",
        "  friendMiddleList.extend(mutualFriend)\n",
        "\n",
        "\n",
        "# Creates list of mutual friend pairs\n",
        "flatMapMutualPair = sc.parallelize(list(set(friendMiddleList) - set(flatMapFriendPair)))\n",
        "\n",
        "\n",
        "# Rank mutual pairs list by count and limit recs to 10\n",
        "flatMapRankedPair = flatMapMutualPair.map(lambda x: (x, 1))\n",
        "countKeys = flatMapRankedPair.reduceByKey(lambda a, b: a + b)\n",
        "flatMapMutualPair = countKeys.sortBy(lambda x: -x[1]).keys().groupByKey().mapValues(list).map(lambda x: (x[0], x[1][:10]))\n",
        "\n",
        "\n",
        "# Add removed users (had no friends, closed circle of friends) back to final list\n",
        "original = flatMapVar.map(lambda line: (line[0], line[1:])).keys()\n",
        "trimmed = flatMapMutualPair.keys()\n",
        "removed = original.subtract(trimmed).map(lambda line: (line, \"\"))\n",
        "\n",
        "trueMutuals = flatMapMutualPair.union(removed)\n",
        "\n",
        "\n",
        "# Create dataframe and export csv\n",
        "recs = sqlContext.createDataFrame(trueMutuals) \\\n",
        "            .withColumnRenamed('_1','User').withColumnRenamed('_2','Recommendations')\n",
        "\n",
        "recs.toPandas().to_csv('friend_recs.csv', index=False)"
      ],
      "metadata": {
        "id": "sHAm978QLC0k"
      },
      "execution_count": null,
      "outputs": []
    }
  ]
}